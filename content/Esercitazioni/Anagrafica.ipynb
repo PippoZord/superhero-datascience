{
 "cells": [
  {
   "attachments": {},
   "cell_type": "markdown",
   "metadata": {},
   "source": [
    "<h1>Esercitazioni</h1>\n",
    "<h2>Anagrafica</h2>\n",
    "\n",
    "Esercitazione circa l'utilizzo di Dataframe, Serie e le librerie pandas e numpy per l'utilizzo di una sintassi corretta. "
   ]
  },
  {
   "cell_type": "code",
   "execution_count": 102,
   "metadata": {},
   "outputs": [],
   "source": [
    "%matplotlib inline\n",
    "\n",
    "import csv\n",
    "import numpy as np\n",
    "import matplotlib.pyplot as plt\n",
    "import pandas as pd\n",
    "\n",
    "plt.style.use('fivethirtyeight')\n",
    "plt.rc('figure', figsize=(5.0, 2.0))\n",
    "\n",
    "with open('/home/pippozord/Scrivania/Statistica/2023/superhero-datascience/content/data/Anagrafica.csv', 'r') as heroes_file:\n",
    "  anagrafica_reader = csv.reader(heroes_file, delimiter=' ', quotechar='\"')\n",
    "  anagrafica = list(anagrafica_reader)[1:]\n"
   ]
  },
  {
   "attachments": {},
   "cell_type": "markdown",
   "metadata": {},
   "source": [
    "<h4>Serie</h4>\n",
    "Creo una serie in cui associo il peso al mio giocatore."
   ]
  },
  {
   "cell_type": "code",
   "execution_count": 103,
   "metadata": {},
   "outputs": [
    {
     "data": {
      "text/plain": [
       "Giocatore1     76\n",
       "Giocatore2     75\n",
       "Giocatore3     70\n",
       "Giocatore4     72\n",
       "Giocatore5    130\n",
       "dtype: int64"
      ]
     },
     "execution_count": 103,
     "metadata": {},
     "output_type": "execute_result"
    }
   ],
   "source": [
    "weight = [int(a[2]) if a[2] else None for a in anagrafica]\n",
    "names = [n[0] for n in anagrafica]\n",
    "series_weight = pd.Series(weight, index = names)\n",
    "series_weight.head()"
   ]
  },
  {
   "attachments": {},
   "cell_type": "markdown",
   "metadata": {},
   "source": [
    "<h5>Operazioni</h5>"
   ]
  },
  {
   "attachments": {},
   "cell_type": "markdown",
   "metadata": {},
   "source": [
    "Estraggo da `series_weight` solo i giocatori con peso compreso tra 80 e 83 inclusi.\n",
    "\n",
    "Da notare la sintassi. uso l'operatore d'accesso `[]` dentro cui inserisco `[query]`. \n",
    "\n",
    "Risultato `serie[[query]]`.\n",
    "\n",
    "Operazione di *list comprehension*"
   ]
  },
  {
   "cell_type": "code",
   "execution_count": 104,
   "metadata": {},
   "outputs": [
    {
     "data": {
      "text/plain": [
       "Giocatore14     83\n",
       "Giocatore43     83\n",
       "Giocatore51     83\n",
       "Giocatore64     81\n",
       "Giocatore104    82\n",
       "Giocatore118    82\n",
       "Giocatore169    82\n",
       "Giocatore173    81\n",
       "Giocatore264    82\n",
       "Giocatore293    82\n",
       "Giocatore327    83\n",
       "Giocatore335    82\n",
       "Giocatore340    81\n",
       "Giocatore345    82\n",
       "Giocatore354    83\n",
       "Giocatore385    83\n",
       "Giocatore391    83\n",
       "Giocatore392    82\n",
       "dtype: int64"
      ]
     },
     "execution_count": 104,
     "metadata": {},
     "output_type": "execute_result"
    }
   ],
   "source": [
    "series_weight[[80 < y < 84 for y in series_weight]]"
   ]
  },
  {
   "attachments": {},
   "cell_type": "markdown",
   "metadata": {},
   "source": [
    "Eseguo una query ma questa volta senza *list comprehension*. Tutti i giocatori con peso = 80. Se voglio fare una query per il giocatore con peso comrpeso tra 2 valori devo utilizzare la *list comprehension* descritta sopra."
   ]
  },
  {
   "cell_type": "code",
   "execution_count": 105,
   "metadata": {},
   "outputs": [
    {
     "data": {
      "text/plain": [
       "Giocatore8     80\n",
       "Giocatore17    80\n",
       "Giocatore22    80\n",
       "Giocatore30    80\n",
       "Giocatore44    80\n",
       "dtype: int64"
      ]
     },
     "execution_count": 105,
     "metadata": {},
     "output_type": "execute_result"
    }
   ],
   "source": [
    "series_weight[series_weight == 80].head(5)"
   ]
  },
  {
   "attachments": {},
   "cell_type": "markdown",
   "metadata": {},
   "source": [
    "Utilizzo `value.count()` per contare le frequenze assolute dei miei valori peso."
   ]
  },
  {
   "cell_type": "code",
   "execution_count": 106,
   "metadata": {},
   "outputs": [
    {
     "data": {
      "text/plain": [
       "70     43\n",
       "80     28\n",
       "85     23\n",
       "75     21\n",
       "60     19\n",
       "       ..\n",
       "55      1\n",
       "77      1\n",
       "47      1\n",
       "105     1\n",
       "98      1\n",
       "Length: 67, dtype: int64"
      ]
     },
     "execution_count": 106,
     "metadata": {},
     "output_type": "execute_result"
    }
   ],
   "source": [
    "series_weight.value_counts()"
   ]
  },
  {
   "attachments": {},
   "cell_type": "markdown",
   "metadata": {},
   "source": [
    "Aggiungo ora l'ordinamento con `sort_index()`. Ciò che resistuisco con la linea di codice è una `Series` di `pandas` che ha come *indice* il valore della mia serie *originale* (ossia il peso) e come valore le mie frequenze. poi ordinate per indice della nuova serie `weigh_freq`.  "
   ]
  },
  {
   "cell_type": "code",
   "execution_count": 107,
   "metadata": {},
   "outputs": [
    {
     "data": {
      "text/plain": [
       "20     1\n",
       "24     1\n",
       "45     2\n",
       "46     1\n",
       "47     1\n",
       "      ..\n",
       "115    2\n",
       "120    2\n",
       "124    1\n",
       "130    1\n",
       "135    1\n",
       "Length: 67, dtype: int64"
      ]
     },
     "execution_count": 107,
     "metadata": {},
     "output_type": "execute_result"
    }
   ],
   "source": [
    "weight_freq = series_weight.value_counts().sort_index()\n",
    "weight_freq"
   ]
  },
  {
   "attachments": {},
   "cell_type": "markdown",
   "metadata": {},
   "source": [
    "<h>Graficare</h5>\n",
    "\n",
    "Adesso grafico la mia serie.<br>Notare come non grafico la mia serie `series_weight` ma la mia serie `weight_freq` tramite il metodo `plot.bar()`.<br>Così ho un grafico a barre in cui associo una barra (frequenza assoluta) al peso (indice della serie)."
   ]
  },
  {
   "cell_type": "code",
   "execution_count": 108,
   "metadata": {},
   "outputs": [
    {
     "data": {
      "image/png": "[encoded data removed]",
      "text/plain": [
       "<Figure size 500x200 with 1 Axes>"
      ]
     },
     "metadata": {},
     "output_type": "display_data"
    }
   ],
   "source": [
    "weight_freq.plot.bar()\n",
    "plt.show()"
   ]
  },
  {
   "attachments": {},
   "cell_type": "markdown",
   "metadata": {},
   "source": [
    "Questo grafico è carino ma non bello. `pandas` posiziona le barre una accanto all'altra non sul grafico delle ascisse.<br>Cerco di visualizzare solo alcuni valori."
   ]
  },
  {
   "cell_type": "code",
   "execution_count": 148,
   "metadata": {},
   "outputs": [
    {
     "ename": "KeyError",
     "evalue": "21",
     "output_type": "error",
     "traceback": [
      "\u001b[0;31m---------------------------------------------------------------------------\u001b[0m",
      "\u001b[0;31mKeyError\u001b[0m                                  Traceback (most recent call last)",
      "File \u001b[0;32m~/.local/lib/python3.10/site-packages/pandas/core/indexes/base.py:3803\u001b[0m, in \u001b[0;36mIndex.get_loc\u001b[0;34m(self, key, method, tolerance)\u001b[0m\n\u001b[1;32m   3802\u001b[0m \u001b[39mtry\u001b[39;00m:\n\u001b[0;32m-> 3803\u001b[0m     \u001b[39mreturn\u001b[39;00m \u001b[39mself\u001b[39;49m\u001b[39m.\u001b[39;49m_engine\u001b[39m.\u001b[39;49mget_loc(casted_key)\n\u001b[1;32m   3804\u001b[0m \u001b[39mexcept\u001b[39;00m \u001b[39mKeyError\u001b[39;00m \u001b[39mas\u001b[39;00m err:\n",
      "File \u001b[0;32m~/.local/lib/python3.10/site-packages/pandas/_libs/index.pyx:138\u001b[0m, in \u001b[0;36mpandas._libs.index.IndexEngine.get_loc\u001b[0;34m()\u001b[0m\n",
      "File \u001b[0;32m~/.local/lib/python3.10/site-packages/pandas/_libs/index.pyx:165\u001b[0m, in \u001b[0;36mpandas._libs.index.IndexEngine.get_loc\u001b[0;34m()\u001b[0m\n",
      "File \u001b[0;32mpandas/_libs/hashtable_class_helper.pxi:2263\u001b[0m, in \u001b[0;36mpandas._libs.hashtable.Int64HashTable.get_item\u001b[0;34m()\u001b[0m\n",
      "File \u001b[0;32mpandas/_libs/hashtable_class_helper.pxi:2273\u001b[0m, in \u001b[0;36mpandas._libs.hashtable.Int64HashTable.get_item\u001b[0;34m()\u001b[0m\n",
      "\u001b[0;31mKeyError\u001b[0m: 21",
      "\nThe above exception was the direct cause of the following exception:\n",
      "\u001b[0;31mKeyError\u001b[0m                                  Traceback (most recent call last)",
      "\u001b[1;32m/home/pippozord/Scrivania/Statistica/2023/superhero-datascience/content/Esercitazioni/Anagrafica.ipynb Cell 17\u001b[0m in \u001b[0;36m2\n\u001b[1;32m      <a href='vscode-notebook-cell:/home/pippozord/Scrivania/Statistica/2023/superhero-datascience/content/Esercitazioni/Anagrafica.ipynb#X34sZmlsZQ%3D%3D?line=0'>1</a>\u001b[0m weight \u001b[39m=\u001b[39m np\u001b[39m.\u001b[39marange(\u001b[39m20\u001b[39m, \u001b[39m140\u001b[39m, \u001b[39m1\u001b[39m)\n\u001b[0;32m----> <a href='vscode-notebook-cell:/home/pippozord/Scrivania/Statistica/2023/superhero-datascience/content/Esercitazioni/Anagrafica.ipynb#X34sZmlsZQ%3D%3D?line=1'>2</a>\u001b[0m i \u001b[39m=\u001b[39m [weight_freq\u001b[39m.\u001b[39mindex\u001b[39m.\u001b[39mget_loc(y) \u001b[39mfor\u001b[39;00m y \u001b[39min\u001b[39;00m weight]\n\u001b[1;32m      <a href='vscode-notebook-cell:/home/pippozord/Scrivania/Statistica/2023/superhero-datascience/content/Esercitazioni/Anagrafica.ipynb#X34sZmlsZQ%3D%3D?line=2'>3</a>\u001b[0m i\n",
      "\u001b[1;32m/home/pippozord/Scrivania/Statistica/2023/superhero-datascience/content/Esercitazioni/Anagrafica.ipynb Cell 17\u001b[0m in \u001b[0;36m2\n\u001b[1;32m      <a href='vscode-notebook-cell:/home/pippozord/Scrivania/Statistica/2023/superhero-datascience/content/Esercitazioni/Anagrafica.ipynb#X34sZmlsZQ%3D%3D?line=0'>1</a>\u001b[0m weight \u001b[39m=\u001b[39m np\u001b[39m.\u001b[39marange(\u001b[39m20\u001b[39m, \u001b[39m140\u001b[39m, \u001b[39m1\u001b[39m)\n\u001b[0;32m----> <a href='vscode-notebook-cell:/home/pippozord/Scrivania/Statistica/2023/superhero-datascience/content/Esercitazioni/Anagrafica.ipynb#X34sZmlsZQ%3D%3D?line=1'>2</a>\u001b[0m i \u001b[39m=\u001b[39m [weight_freq\u001b[39m.\u001b[39;49mindex\u001b[39m.\u001b[39;49mget_loc(y) \u001b[39mfor\u001b[39;00m y \u001b[39min\u001b[39;00m weight]\n\u001b[1;32m      <a href='vscode-notebook-cell:/home/pippozord/Scrivania/Statistica/2023/superhero-datascience/content/Esercitazioni/Anagrafica.ipynb#X34sZmlsZQ%3D%3D?line=2'>3</a>\u001b[0m i\n",
      "File \u001b[0;32m~/.local/lib/python3.10/site-packages/pandas/core/indexes/base.py:3805\u001b[0m, in \u001b[0;36mIndex.get_loc\u001b[0;34m(self, key, method, tolerance)\u001b[0m\n\u001b[1;32m   3803\u001b[0m     \u001b[39mreturn\u001b[39;00m \u001b[39mself\u001b[39m\u001b[39m.\u001b[39m_engine\u001b[39m.\u001b[39mget_loc(casted_key)\n\u001b[1;32m   3804\u001b[0m \u001b[39mexcept\u001b[39;00m \u001b[39mKeyError\u001b[39;00m \u001b[39mas\u001b[39;00m err:\n\u001b[0;32m-> 3805\u001b[0m     \u001b[39mraise\u001b[39;00m \u001b[39mKeyError\u001b[39;00m(key) \u001b[39mfrom\u001b[39;00m \u001b[39merr\u001b[39;00m\n\u001b[1;32m   3806\u001b[0m \u001b[39mexcept\u001b[39;00m \u001b[39mTypeError\u001b[39;00m:\n\u001b[1;32m   3807\u001b[0m     \u001b[39m# If we have a listlike key, _check_indexing_error will raise\u001b[39;00m\n\u001b[1;32m   3808\u001b[0m     \u001b[39m#  InvalidIndexError. Otherwise we fall through and re-raise\u001b[39;00m\n\u001b[1;32m   3809\u001b[0m     \u001b[39m#  the TypeError.\u001b[39;00m\n\u001b[1;32m   3810\u001b[0m     \u001b[39mself\u001b[39m\u001b[39m.\u001b[39m_check_indexing_error(key)\n",
      "\u001b[0;31mKeyError\u001b[0m: 21"
     ]
    }
   ],
   "source": []
  },
  {
   "cell_type": "code",
   "execution_count": 161,
   "metadata": {},
   "outputs": [
    {
     "data": {
      "image/png": "[encoded data removed]",
      "text/plain": [
       "<Figure size 500x200 with 1 Axes>"
      ]
     },
     "metadata": {},
     "output_type": "display_data"
    }
   ],
   "source": [
    "plt.bar(weight_freq.index, weight_freq.values)\n",
    "plt.xlim((140))\n",
    "plt.ylim(0, 40)\n",
    "plt.show()"
   ]
  },
  {
   "cell_type": "code",
   "execution_count": null,
   "metadata": {},
   "outputs": [],
   "source": []
  }
 ],
 "metadata": {
  "kernelspec": {
   "display_name": "Python 3",
   "language": "python",
   "name": "python3"
  },
  "language_info": {
   "codemirror_mode": {
    "name": "ipython",
    "version": 3
   },
   "file_extension": ".py",
   "mimetype": "text/x-python",
   "name": "python",
   "nbconvert_exporter": "python",
   "pygments_lexer": "ipython3",
   "version": "3.10.6"
  },
  "orig_nbformat": 4
 },
 "nbformat": 4,
 "nbformat_minor": 2
}
