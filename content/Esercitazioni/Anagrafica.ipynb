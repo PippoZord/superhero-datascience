{
 "cells": [
  {
   "attachments": {},
   "cell_type": "markdown",
   "metadata": {},
   "source": [
    "<h1>Esercitazioni</h1>\n",
    "<h2>Anagrafica</h2>\n",
    "\n",
    "Esercitazione circa l'utilizzo di Dataframe, Serie e le librerie pandas e numpy per l'utilizzo di una sintassi corretta. "
   ]
  },
  {
   "cell_type": "code",
   "execution_count": 1,
   "metadata": {},
   "outputs": [],
   "source": [
    "%matplotlib inline\n",
    "\n",
    "import csv\n",
    "import numpy as np\n",
    "import matplotlib.pyplot as plt\n",
    "import pandas as pd\n",
    "\n",
    "plt.style.use('fivethirtyeight')\n",
    "plt.rc('figure', figsize=(5.0, 2.0))\n",
    "\n",
    "with open('/home/pippozord/Scrivania/Statistica/2023/superhero-datascience/content/data/Anagrafica.csv', 'r') as heroes_file:\n",
    "  anagrafica_reader = csv.reader(heroes_file, delimiter=' ', quotechar='\"')\n",
    "  anagrafica = list(anagrafica_reader)[1:]\n"
   ]
  },
  {
   "attachments": {},
   "cell_type": "markdown",
   "metadata": {},
   "source": [
    "<h4>Serie</h4>\n",
    "Creo una serie in cui associo il peso al mio giocatore."
   ]
  },
  {
   "cell_type": "code",
   "execution_count": 2,
   "metadata": {},
   "outputs": [
    {
     "data": {
      "text/plain": [
       "Giocatore1     76\n",
       "Giocatore2     75\n",
       "Giocatore3     70\n",
       "Giocatore4     72\n",
       "Giocatore5    130\n",
       "dtype: int64"
      ]
     },
     "execution_count": 2,
     "metadata": {},
     "output_type": "execute_result"
    }
   ],
   "source": [
    "weight = [int(a[2]) if a[2] else None for a in anagrafica]\n",
    "names = [n[0] for n in anagrafica]\n",
    "series_weight = pd.Series(weight, index = names)\n",
    "series_weight.head()"
   ]
  },
  {
   "attachments": {},
   "cell_type": "markdown",
   "metadata": {},
   "source": [
    "<h5>Operazioni</h5>"
   ]
  },
  {
   "attachments": {},
   "cell_type": "markdown",
   "metadata": {},
   "source": [
    "Estraggo da `series_weight` solo i giocatori con peso compreso tra 80 e 83 inclusi.\n",
    "\n",
    "Da notare la sintassi. uso l'operatore d'accesso `[]` dentro cui inserisco `[query]`. \n",
    "\n",
    "Risultato `serie[[query]]`.\n",
    "\n",
    "Operazione di *list comprehension*"
   ]
  },
  {
   "cell_type": "code",
   "execution_count": 3,
   "metadata": {},
   "outputs": [
    {
     "data": {
      "text/plain": [
       "Giocatore14     83\n",
       "Giocatore43     83\n",
       "Giocatore51     83\n",
       "Giocatore64     81\n",
       "Giocatore104    82\n",
       "Giocatore118    82\n",
       "Giocatore169    82\n",
       "Giocatore173    81\n",
       "Giocatore264    82\n",
       "Giocatore293    82\n",
       "Giocatore327    83\n",
       "Giocatore335    82\n",
       "Giocatore340    81\n",
       "Giocatore345    82\n",
       "Giocatore354    83\n",
       "Giocatore385    83\n",
       "Giocatore391    83\n",
       "Giocatore392    82\n",
       "dtype: int64"
      ]
     },
     "execution_count": 3,
     "metadata": {},
     "output_type": "execute_result"
    }
   ],
   "source": [
    "series_weight[[80 < y < 84 for y in series_weight]]"
   ]
  },
  {
   "attachments": {},
   "cell_type": "markdown",
   "metadata": {},
   "source": [
    "Eseguo una query ma questa volta senza *list comprehension*. Tutti i giocatori con peso = 80. Se voglio fare una query per il giocatore con peso comrpeso tra 2 valori devo utilizzare la *list comprehension* descritta sopra."
   ]
  },
  {
   "cell_type": "code",
   "execution_count": 4,
   "metadata": {},
   "outputs": [
    {
     "data": {
      "text/plain": [
       "Giocatore8     80\n",
       "Giocatore17    80\n",
       "Giocatore22    80\n",
       "Giocatore30    80\n",
       "Giocatore44    80\n",
       "dtype: int64"
      ]
     },
     "execution_count": 4,
     "metadata": {},
     "output_type": "execute_result"
    }
   ],
   "source": [
    "series_weight[series_weight == 80].head(5)"
   ]
  },
  {
   "attachments": {},
   "cell_type": "markdown",
   "metadata": {},
   "source": [
    "Utilizzo `value.count()` per contare le frequenze assolute dei miei valori peso."
   ]
  },
  {
   "cell_type": "code",
   "execution_count": 5,
   "metadata": {},
   "outputs": [
    {
     "data": {
      "text/plain": [
       "70     43\n",
       "80     28\n",
       "85     23\n",
       "75     21\n",
       "60     19\n",
       "       ..\n",
       "55      1\n",
       "77      1\n",
       "47      1\n",
       "105     1\n",
       "98      1\n",
       "Length: 67, dtype: int64"
      ]
     },
     "execution_count": 5,
     "metadata": {},
     "output_type": "execute_result"
    }
   ],
   "source": [
    "series_weight.value_counts()"
   ]
  },
  {
   "attachments": {},
   "cell_type": "markdown",
   "metadata": {},
   "source": [
    "Aggiungo ora l'ordinamento con `sort_index()`. Ciò che resistuisco con la linea di codice è una `Series` di `pandas` che ha come *indice* il valore della mia serie *originale* (ossia il peso) e come valore le mie frequenze. poi ordinate per indice della nuova serie `weigh_freq`.  "
   ]
  },
  {
   "cell_type": "code",
   "execution_count": 6,
   "metadata": {},
   "outputs": [
    {
     "data": {
      "text/plain": [
       "20     1\n",
       "24     1\n",
       "45     2\n",
       "46     1\n",
       "47     1\n",
       "      ..\n",
       "115    2\n",
       "120    2\n",
       "124    1\n",
       "130    1\n",
       "135    1\n",
       "Length: 67, dtype: int64"
      ]
     },
     "execution_count": 6,
     "metadata": {},
     "output_type": "execute_result"
    }
   ],
   "source": [
    "weight_freq = series_weight.value_counts().sort_index()\n",
    "weight_freq"
   ]
  },
  {
   "attachments": {},
   "cell_type": "markdown",
   "metadata": {},
   "source": [
    "<h>Graficare</h5>\n",
    "\n",
    "Adesso grafico la mia serie.<br>Notare come non grafico la mia serie `series_weight` ma la mia serie `weight_freq` tramite il metodo `plot.bar()`.<br>Così ho un grafico a barre in cui associo una barra (frequenza assoluta) al peso (indice della serie)."
   ]
  },
  {
   "cell_type": "code",
   "execution_count": 7,
   "metadata": {},
   "outputs": [
    {
     "data": {
      "image/png": "[encoded data removed]",
      "text/plain": [
       "<Figure size 500x200 with 1 Axes>"
      ]
     },
     "metadata": {},
     "output_type": "display_data"
    }
   ],
   "source": [
    "weight_freq.plot.bar()\n",
    "plt.show()"
   ]
  },
  {
   "attachments": {},
   "cell_type": "markdown",
   "metadata": {},
   "source": [
    "Questo grafico è carino ma non bello. `pandas` posiziona le barre una accanto all'altra non sul grafico delle ascisse.\n",
    "\n",
    "Cerco di visualizzare solo alcuni valori cambiando la visualizzazione in questo modo."
   ]
  },
  {
   "cell_type": "code",
   "execution_count": 8,
   "metadata": {},
   "outputs": [
    {
     "data": {
      "image/png": "[encoded data removed]",
      "text/plain": [
       "<Figure size 500x200 with 1 Axes>"
      ]
     },
     "metadata": {},
     "output_type": "display_data"
    }
   ],
   "source": [
    "plt.bar(weight_freq.index, weight_freq.values)\n",
    "plt.xlim((40, 136))\n",
    "plt.ylim(0, 40)\n",
    "plt.show()"
   ]
  },
  {
   "attachments": {},
   "cell_type": "markdown",
   "metadata": {},
   "source": [
    "<h4>Dataframe</h4>"
   ]
  },
  {
   "attachments": {},
   "cell_type": "markdown",
   "metadata": {},
   "source": [
    "<h5>Accesso</h5>"
   ]
  },
  {
   "attachments": {},
   "cell_type": "markdown",
   "metadata": {},
   "source": [
    "Leggo il file e lo salvo con tipo `Dataframe` di `pandas`.\n",
    "Devo anche specificare il mio indice del mio `Dataframe` con l'indice relativo alla colonna in cui sono salvati i miei dati indice."
   ]
  },
  {
   "cell_type": "code",
   "execution_count": 37,
   "metadata": {},
   "outputs": [
    {
     "ename": "AttributeError",
     "evalue": "module 'pandas' has no attribute 'reader_csv'",
     "output_type": "error",
     "traceback": [
      "\u001b[0;31m---------------------------------------------------------------------------\u001b[0m",
      "\u001b[0;31mAttributeError\u001b[0m                            Traceback (most recent call last)",
      "\u001b[1;32m/home/pippozord/Scrivania/Statistica/2023/superhero-datascience/content/Esercitazioni/Anagrafica.ipynb Cell 21\u001b[0m in \u001b[0;36m1\n\u001b[0;32m----> <a href='vscode-notebook-cell:/home/pippozord/Scrivania/Statistica/2023/superhero-datascience/content/Esercitazioni/Anagrafica.ipynb#X26sZmlsZQ%3D%3D?line=0'>1</a>\u001b[0m player \u001b[39m=\u001b[39m pd\u001b[39m.\u001b[39;49mreader_csv(\u001b[39m'\u001b[39m\u001b[39m/home/pippozord/Scrivania/Statistica/2023/superhero-datascience/content/data/Anagrafica.csv\u001b[39m\u001b[39m'\u001b[39m, sep \u001b[39m=\u001b[39m \u001b[39m'\u001b[39m\u001b[39m \u001b[39m\u001b[39m'\u001b[39m, index_col\u001b[39m=\u001b[39m\u001b[39m0\u001b[39m);\n\u001b[1;32m      <a href='vscode-notebook-cell:/home/pippozord/Scrivania/Statistica/2023/superhero-datascience/content/Esercitazioni/Anagrafica.ipynb#X26sZmlsZQ%3D%3D?line=1'>2</a>\u001b[0m player\u001b[39m.\u001b[39mhead(\u001b[39m5\u001b[39m)\n",
      "File \u001b[0;32m~/.local/lib/python3.10/site-packages/pandas/__init__.py:264\u001b[0m, in \u001b[0;36m__getattr__\u001b[0;34m(name)\u001b[0m\n\u001b[1;32m    260\u001b[0m     \u001b[39mfrom\u001b[39;00m \u001b[39mpandas\u001b[39;00m\u001b[39m.\u001b[39;00m\u001b[39mcore\u001b[39;00m\u001b[39m.\u001b[39;00m\u001b[39marrays\u001b[39;00m\u001b[39m.\u001b[39;00m\u001b[39msparse\u001b[39;00m \u001b[39mimport\u001b[39;00m SparseArray \u001b[39mas\u001b[39;00m _SparseArray\n\u001b[1;32m    262\u001b[0m     \u001b[39mreturn\u001b[39;00m _SparseArray\n\u001b[0;32m--> 264\u001b[0m \u001b[39mraise\u001b[39;00m \u001b[39mAttributeError\u001b[39;00m(\u001b[39mf\u001b[39m\u001b[39m\"\u001b[39m\u001b[39mmodule \u001b[39m\u001b[39m'\u001b[39m\u001b[39mpandas\u001b[39m\u001b[39m'\u001b[39m\u001b[39m has no attribute \u001b[39m\u001b[39m'\u001b[39m\u001b[39m{\u001b[39;00mname\u001b[39m}\u001b[39;00m\u001b[39m'\u001b[39m\u001b[39m\"\u001b[39m)\n",
      "\u001b[0;31mAttributeError\u001b[0m: module 'pandas' has no attribute 'reader_csv'"
     ]
    }
   ],
   "source": [
    "player = pd.read_csv('/home/pippozord/Scrivania/Statistica/2023/superhero-datascience/content/data/Anagrafica.csv', sep = ' ', index_col=0);\n",
    "player.head(5)"
   ]
  },
  {
   "attachments": {},
   "cell_type": "markdown",
   "metadata": {},
   "source": [
    "Ora posso accedere al `Dataframe` tramite il nome dei miei campi.<br>Ciò che ottengo è `Serires` di `pandas` in cui associo il mio `id` (definito nella lettura del csv) al mio campo di cui voglio il valore."
   ]
  },
  {
   "cell_type": "code",
   "execution_count": 10,
   "metadata": {},
   "outputs": [
    {
     "data": {
      "text/plain": [
       "NOME\n",
       "Giocatore1      47\n",
       "Giocatore2      81\n",
       "Giocatore3      75\n",
       "Giocatore4      75\n",
       "Giocatore5      49\n",
       "                ..\n",
       "Giocatore430    48\n",
       "Giocatore431    39\n",
       "Giocatore432    54\n",
       "Giocatore433    64\n",
       "Giocatore434    43\n",
       "Name: ETA, Length: 434, dtype: int64"
      ]
     },
     "execution_count": 10,
     "metadata": {},
     "output_type": "execute_result"
    }
   ],
   "source": [
    "player['ETA']"
   ]
  },
  {
   "attachments": {},
   "cell_type": "markdown",
   "metadata": {},
   "source": [
    "Per accedere a quello specifico `id` e visualizzarne i suoi valori posso usare uno *slicing*. Ciò che ottengo è un `Dataframe` in quanto leggo una singola \"fetta\"."
   ]
  },
  {
   "cell_type": "code",
   "execution_count": 11,
   "metadata": {},
   "outputs": [
    {
     "data": {
      "text/html": [
       "<div>\n",
       "<style scoped>\n",
       "    .dataframe tbody tr th:only-of-type {\n",
       "        vertical-align: middle;\n",
       "    }\n",
       "\n",
       "    .dataframe tbody tr th {\n",
       "        vertical-align: top;\n",
       "    }\n",
       "\n",
       "    .dataframe thead th {\n",
       "        text-align: right;\n",
       "    }\n",
       "</style>\n",
       "<table border=\"1\" class=\"dataframe\">\n",
       "  <thead>\n",
       "    <tr style=\"text-align: right;\">\n",
       "      <th></th>\n",
       "      <th>ETA</th>\n",
       "      <th>PESO</th>\n",
       "      <th>ALTEZZA</th>\n",
       "      <th>SESSO</th>\n",
       "    </tr>\n",
       "    <tr>\n",
       "      <th>NOME</th>\n",
       "      <th></th>\n",
       "      <th></th>\n",
       "      <th></th>\n",
       "      <th></th>\n",
       "    </tr>\n",
       "  </thead>\n",
       "  <tbody>\n",
       "    <tr>\n",
       "      <th>Giocatore1</th>\n",
       "      <td>47</td>\n",
       "      <td>76</td>\n",
       "      <td>170</td>\n",
       "      <td>2</td>\n",
       "    </tr>\n",
       "  </tbody>\n",
       "</table>\n",
       "</div>"
      ],
      "text/plain": [
       "            ETA  PESO  ALTEZZA  SESSO\n",
       "NOME                                 \n",
       "Giocatore1   47    76      170      2"
      ]
     },
     "execution_count": 11,
     "metadata": {},
     "output_type": "execute_result"
    }
   ],
   "source": [
    "player['Giocatore1':'Giocatore1']"
   ]
  },
  {
   "attachments": {},
   "cell_type": "markdown",
   "metadata": {},
   "source": [
    "Se voglio leggere invece solo una valore del mio `Dataframe` posso usare il metodo `loc`. Ciò che oottengo è un tipo `Series` in cui ho tutti i valori del `id` specificato."
   ]
  },
  {
   "cell_type": "code",
   "execution_count": 12,
   "metadata": {},
   "outputs": [
    {
     "data": {
      "text/plain": [
       "Index(['ETA', 'PESO', 'ALTEZZA', 'SESSO'], dtype='object')"
      ]
     },
     "execution_count": 12,
     "metadata": {},
     "output_type": "execute_result"
    }
   ],
   "source": [
    "player.loc['Giocatore1'].index"
   ]
  },
  {
   "attachments": {},
   "cell_type": "markdown",
   "metadata": {},
   "source": [
    "Un altro modo di usare `loc` è anche specificare i campi che si vogliono visualizzare. Notar bene che ciò che ottengo è un `Dataframe`."
   ]
  },
  {
   "cell_type": "code",
   "execution_count": 13,
   "metadata": {},
   "outputs": [
    {
     "data": {
      "text/html": [
       "<div>\n",
       "<style scoped>\n",
       "    .dataframe tbody tr th:only-of-type {\n",
       "        vertical-align: middle;\n",
       "    }\n",
       "\n",
       "    .dataframe tbody tr th {\n",
       "        vertical-align: top;\n",
       "    }\n",
       "\n",
       "    .dataframe thead th {\n",
       "        text-align: right;\n",
       "    }\n",
       "</style>\n",
       "<table border=\"1\" class=\"dataframe\">\n",
       "  <thead>\n",
       "    <tr style=\"text-align: right;\">\n",
       "      <th></th>\n",
       "      <th>ETA</th>\n",
       "      <th>PESO</th>\n",
       "      <th>ALTEZZA</th>\n",
       "    </tr>\n",
       "    <tr>\n",
       "      <th>NOME</th>\n",
       "      <th></th>\n",
       "      <th></th>\n",
       "      <th></th>\n",
       "    </tr>\n",
       "  </thead>\n",
       "  <tbody>\n",
       "    <tr>\n",
       "      <th>Giocatore1</th>\n",
       "      <td>47</td>\n",
       "      <td>76</td>\n",
       "      <td>170</td>\n",
       "    </tr>\n",
       "    <tr>\n",
       "      <th>Giocatore2</th>\n",
       "      <td>81</td>\n",
       "      <td>75</td>\n",
       "      <td>170</td>\n",
       "    </tr>\n",
       "    <tr>\n",
       "      <th>Giocatore3</th>\n",
       "      <td>75</td>\n",
       "      <td>70</td>\n",
       "      <td>168</td>\n",
       "    </tr>\n",
       "    <tr>\n",
       "      <th>Giocatore4</th>\n",
       "      <td>75</td>\n",
       "      <td>72</td>\n",
       "      <td>178</td>\n",
       "    </tr>\n",
       "    <tr>\n",
       "      <th>Giocatore5</th>\n",
       "      <td>49</td>\n",
       "      <td>130</td>\n",
       "      <td>182</td>\n",
       "    </tr>\n",
       "  </tbody>\n",
       "</table>\n",
       "</div>"
      ],
      "text/plain": [
       "            ETA  PESO  ALTEZZA\n",
       "NOME                          \n",
       "Giocatore1   47    76      170\n",
       "Giocatore2   81    75      170\n",
       "Giocatore3   75    70      168\n",
       "Giocatore4   75    72      178\n",
       "Giocatore5   49   130      182"
      ]
     },
     "execution_count": 13,
     "metadata": {},
     "output_type": "execute_result"
    }
   ],
   "source": [
    "player.loc['Giocatore1' : 'Giocatore5', 'ETA' : 'ALTEZZA']"
   ]
  },
  {
   "attachments": {},
   "cell_type": "markdown",
   "metadata": {},
   "source": [
    "Ovviamente posso usare anche `iloc` per accedere alle righe. Attenzione, qua ottengo un dataframe a differenza di `loc`."
   ]
  },
  {
   "cell_type": "code",
   "execution_count": 14,
   "metadata": {},
   "outputs": [
    {
     "data": {
      "text/html": [
       "<div>\n",
       "<style scoped>\n",
       "    .dataframe tbody tr th:only-of-type {\n",
       "        vertical-align: middle;\n",
       "    }\n",
       "\n",
       "    .dataframe tbody tr th {\n",
       "        vertical-align: top;\n",
       "    }\n",
       "\n",
       "    .dataframe thead th {\n",
       "        text-align: right;\n",
       "    }\n",
       "</style>\n",
       "<table border=\"1\" class=\"dataframe\">\n",
       "  <thead>\n",
       "    <tr style=\"text-align: right;\">\n",
       "      <th></th>\n",
       "      <th>ETA</th>\n",
       "      <th>PESO</th>\n",
       "      <th>ALTEZZA</th>\n",
       "      <th>SESSO</th>\n",
       "    </tr>\n",
       "    <tr>\n",
       "      <th>NOME</th>\n",
       "      <th></th>\n",
       "      <th></th>\n",
       "      <th></th>\n",
       "      <th></th>\n",
       "    </tr>\n",
       "  </thead>\n",
       "  <tbody>\n",
       "  </tbody>\n",
       "</table>\n",
       "</div>"
      ],
      "text/plain": [
       "Empty DataFrame\n",
       "Columns: [ETA, PESO, ALTEZZA, SESSO]\n",
       "Index: []"
      ]
     },
     "execution_count": 14,
     "metadata": {},
     "output_type": "execute_result"
    }
   ],
   "source": [
    "player.iloc[1:1]"
   ]
  },
  {
   "attachments": {},
   "cell_type": "markdown",
   "metadata": {},
   "source": [
    "Come in `loc` con `iloc` posso accedere, tramite posizione, a determinati campi ottenendo un `Dataframe`."
   ]
  },
  {
   "cell_type": "code",
   "execution_count": 15,
   "metadata": {},
   "outputs": [
    {
     "data": {
      "text/html": [
       "<div>\n",
       "<style scoped>\n",
       "    .dataframe tbody tr th:only-of-type {\n",
       "        vertical-align: middle;\n",
       "    }\n",
       "\n",
       "    .dataframe tbody tr th {\n",
       "        vertical-align: top;\n",
       "    }\n",
       "\n",
       "    .dataframe thead th {\n",
       "        text-align: right;\n",
       "    }\n",
       "</style>\n",
       "<table border=\"1\" class=\"dataframe\">\n",
       "  <thead>\n",
       "    <tr style=\"text-align: right;\">\n",
       "      <th></th>\n",
       "      <th>PESO</th>\n",
       "      <th>ALTEZZA</th>\n",
       "    </tr>\n",
       "    <tr>\n",
       "      <th>NOME</th>\n",
       "      <th></th>\n",
       "      <th></th>\n",
       "    </tr>\n",
       "  </thead>\n",
       "  <tbody>\n",
       "    <tr>\n",
       "      <th>Giocatore4</th>\n",
       "      <td>72</td>\n",
       "      <td>178</td>\n",
       "    </tr>\n",
       "    <tr>\n",
       "      <th>Giocatore5</th>\n",
       "      <td>130</td>\n",
       "      <td>182</td>\n",
       "    </tr>\n",
       "  </tbody>\n",
       "</table>\n",
       "</div>"
      ],
      "text/plain": [
       "            PESO  ALTEZZA\n",
       "NOME                     \n",
       "Giocatore4    72      178\n",
       "Giocatore5   130      182"
      ]
     },
     "execution_count": 15,
     "metadata": {},
     "output_type": "execute_result"
    }
   ],
   "source": [
    "player.iloc[[3,4] , [1,2]]"
   ]
  },
  {
   "attachments": {},
   "cell_type": "markdown",
   "metadata": {},
   "source": [
    "In realtà per accedere alla singola posizione posso usare `at` e `iat` che hanno la stesso funzione di `loc` e `iloc` senza però la possibilità di fare *slicing*. La funzione per cui sono stati introdotti è l'efficienza."
   ]
  },
  {
   "cell_type": "code",
   "execution_count": 16,
   "metadata": {},
   "outputs": [
    {
     "data": {
      "text/plain": [
       "47"
      ]
     },
     "execution_count": 16,
     "metadata": {},
     "output_type": "execute_result"
    }
   ],
   "source": [
    "player.at['Giocatore1', 'ETA']"
   ]
  },
  {
   "cell_type": "code",
   "execution_count": 17,
   "metadata": {},
   "outputs": [
    {
     "data": {
      "text/plain": [
       "47"
      ]
     },
     "execution_count": 17,
     "metadata": {},
     "output_type": "execute_result"
    }
   ],
   "source": [
    "player.iat[0, 0]\n"
   ]
  },
  {
   "attachments": {},
   "cell_type": "markdown",
   "metadata": {},
   "source": [
    "<h5>Operazioni</h5>"
   ]
  },
  {
   "attachments": {},
   "cell_type": "markdown",
   "metadata": {},
   "source": [
    "Posso ordinare il mio `dataframe` tramite `sort_values` che mi esegue un *sort* in relazione al parametro opzionale `by`.<br>Posso anche specificare l'ordine in cui lo vogio. `ascending=False`.<br>Ho un `Dataframe`"
   ]
  },
  {
   "cell_type": "code",
   "execution_count": 18,
   "metadata": {},
   "outputs": [
    {
     "data": {
      "text/html": [
       "<div>\n",
       "<style scoped>\n",
       "    .dataframe tbody tr th:only-of-type {\n",
       "        vertical-align: middle;\n",
       "    }\n",
       "\n",
       "    .dataframe tbody tr th {\n",
       "        vertical-align: top;\n",
       "    }\n",
       "\n",
       "    .dataframe thead th {\n",
       "        text-align: right;\n",
       "    }\n",
       "</style>\n",
       "<table border=\"1\" class=\"dataframe\">\n",
       "  <thead>\n",
       "    <tr style=\"text-align: right;\">\n",
       "      <th></th>\n",
       "      <th>ETA</th>\n",
       "      <th>PESO</th>\n",
       "      <th>ALTEZZA</th>\n",
       "      <th>SESSO</th>\n",
       "    </tr>\n",
       "    <tr>\n",
       "      <th>NOME</th>\n",
       "      <th></th>\n",
       "      <th></th>\n",
       "      <th></th>\n",
       "      <th></th>\n",
       "    </tr>\n",
       "  </thead>\n",
       "  <tbody>\n",
       "    <tr>\n",
       "      <th>Giocatore421</th>\n",
       "      <td>100</td>\n",
       "      <td>50</td>\n",
       "      <td>150</td>\n",
       "      <td>1</td>\n",
       "    </tr>\n",
       "    <tr>\n",
       "      <th>Giocatore322</th>\n",
       "      <td>98</td>\n",
       "      <td>70</td>\n",
       "      <td>170</td>\n",
       "      <td>2</td>\n",
       "    </tr>\n",
       "    <tr>\n",
       "      <th>Giocatore229</th>\n",
       "      <td>94</td>\n",
       "      <td>65</td>\n",
       "      <td>150</td>\n",
       "      <td>1</td>\n",
       "    </tr>\n",
       "    <tr>\n",
       "      <th>Giocatore205</th>\n",
       "      <td>93</td>\n",
       "      <td>68</td>\n",
       "      <td>175</td>\n",
       "      <td>2</td>\n",
       "    </tr>\n",
       "    <tr>\n",
       "      <th>Giocatore257</th>\n",
       "      <td>92</td>\n",
       "      <td>68</td>\n",
       "      <td>170</td>\n",
       "      <td>2</td>\n",
       "    </tr>\n",
       "    <tr>\n",
       "      <th>...</th>\n",
       "      <td>...</td>\n",
       "      <td>...</td>\n",
       "      <td>...</td>\n",
       "      <td>...</td>\n",
       "    </tr>\n",
       "    <tr>\n",
       "      <th>Giocatore219</th>\n",
       "      <td>36</td>\n",
       "      <td>67</td>\n",
       "      <td>170</td>\n",
       "      <td>2</td>\n",
       "    </tr>\n",
       "    <tr>\n",
       "      <th>Giocatore231</th>\n",
       "      <td>36</td>\n",
       "      <td>60</td>\n",
       "      <td>162</td>\n",
       "      <td>1</td>\n",
       "    </tr>\n",
       "    <tr>\n",
       "      <th>Giocatore425</th>\n",
       "      <td>35</td>\n",
       "      <td>65</td>\n",
       "      <td>160</td>\n",
       "      <td>2</td>\n",
       "    </tr>\n",
       "    <tr>\n",
       "      <th>Giocatore179</th>\n",
       "      <td>34</td>\n",
       "      <td>74</td>\n",
       "      <td>173</td>\n",
       "      <td>2</td>\n",
       "    </tr>\n",
       "    <tr>\n",
       "      <th>Giocatore253</th>\n",
       "      <td>32</td>\n",
       "      <td>85</td>\n",
       "      <td>180</td>\n",
       "      <td>2</td>\n",
       "    </tr>\n",
       "  </tbody>\n",
       "</table>\n",
       "<p>434 rows × 4 columns</p>\n",
       "</div>"
      ],
      "text/plain": [
       "              ETA  PESO  ALTEZZA  SESSO\n",
       "NOME                                   \n",
       "Giocatore421  100    50      150      1\n",
       "Giocatore322   98    70      170      2\n",
       "Giocatore229   94    65      150      1\n",
       "Giocatore205   93    68      175      2\n",
       "Giocatore257   92    68      170      2\n",
       "...           ...   ...      ...    ...\n",
       "Giocatore219   36    67      170      2\n",
       "Giocatore231   36    60      162      1\n",
       "Giocatore425   35    65      160      2\n",
       "Giocatore179   34    74      173      2\n",
       "Giocatore253   32    85      180      2\n",
       "\n",
       "[434 rows x 4 columns]"
      ]
     },
     "execution_count": 18,
     "metadata": {},
     "output_type": "execute_result"
    }
   ],
   "source": [
    "player.sort_values(by=\"ETA\", ascending=False)"
   ]
  },
  {
   "attachments": {},
   "cell_type": "markdown",
   "metadata": {},
   "source": [
    "Ovviamente l'ordinamente secondo l'indice è possibile tramite il metodo `sort_index()`"
   ]
  },
  {
   "cell_type": "code",
   "execution_count": 19,
   "metadata": {},
   "outputs": [
    {
     "data": {
      "text/html": [
       "<div>\n",
       "<style scoped>\n",
       "    .dataframe tbody tr th:only-of-type {\n",
       "        vertical-align: middle;\n",
       "    }\n",
       "\n",
       "    .dataframe tbody tr th {\n",
       "        vertical-align: top;\n",
       "    }\n",
       "\n",
       "    .dataframe thead th {\n",
       "        text-align: right;\n",
       "    }\n",
       "</style>\n",
       "<table border=\"1\" class=\"dataframe\">\n",
       "  <thead>\n",
       "    <tr style=\"text-align: right;\">\n",
       "      <th></th>\n",
       "      <th>ETA</th>\n",
       "      <th>PESO</th>\n",
       "      <th>ALTEZZA</th>\n",
       "      <th>SESSO</th>\n",
       "    </tr>\n",
       "    <tr>\n",
       "      <th>NOME</th>\n",
       "      <th></th>\n",
       "      <th></th>\n",
       "      <th></th>\n",
       "      <th></th>\n",
       "    </tr>\n",
       "  </thead>\n",
       "  <tbody>\n",
       "    <tr>\n",
       "      <th>Giocatore1</th>\n",
       "      <td>47</td>\n",
       "      <td>76</td>\n",
       "      <td>170</td>\n",
       "      <td>2</td>\n",
       "    </tr>\n",
       "    <tr>\n",
       "      <th>Giocatore10</th>\n",
       "      <td>80</td>\n",
       "      <td>75</td>\n",
       "      <td>178</td>\n",
       "      <td>2</td>\n",
       "    </tr>\n",
       "    <tr>\n",
       "      <th>Giocatore100</th>\n",
       "      <td>72</td>\n",
       "      <td>110</td>\n",
       "      <td>175</td>\n",
       "      <td>2</td>\n",
       "    </tr>\n",
       "    <tr>\n",
       "      <th>Giocatore101</th>\n",
       "      <td>81</td>\n",
       "      <td>70</td>\n",
       "      <td>170</td>\n",
       "      <td>2</td>\n",
       "    </tr>\n",
       "    <tr>\n",
       "      <th>Giocatore102</th>\n",
       "      <td>71</td>\n",
       "      <td>60</td>\n",
       "      <td>158</td>\n",
       "      <td>2</td>\n",
       "    </tr>\n",
       "  </tbody>\n",
       "</table>\n",
       "</div>"
      ],
      "text/plain": [
       "              ETA  PESO  ALTEZZA  SESSO\n",
       "NOME                                   \n",
       "Giocatore1     47    76      170      2\n",
       "Giocatore10    80    75      178      2\n",
       "Giocatore100   72   110      175      2\n",
       "Giocatore101   81    70      170      2\n",
       "Giocatore102   71    60      158      2"
      ]
     },
     "execution_count": 19,
     "metadata": {},
     "output_type": "execute_result"
    }
   ],
   "source": [
    "player.sort_index()[:5]"
   ]
  },
  {
   "attachments": {},
   "cell_type": "markdown",
   "metadata": {},
   "source": [
    "Più interessante è cercare di eseguire delle *query* come nelle serie. L'idea è sempre quella che viene generata una lista di `boolean` per selezionare le righe.<br>Con i `Dataframe` però il concetto si amplia potendo selezionare più colonne"
   ]
  },
  {
   "cell_type": "code",
   "execution_count": 20,
   "metadata": {},
   "outputs": [
    {
     "data": {
      "text/html": [
       "<div>\n",
       "<style scoped>\n",
       "    .dataframe tbody tr th:only-of-type {\n",
       "        vertical-align: middle;\n",
       "    }\n",
       "\n",
       "    .dataframe tbody tr th {\n",
       "        vertical-align: top;\n",
       "    }\n",
       "\n",
       "    .dataframe thead th {\n",
       "        text-align: right;\n",
       "    }\n",
       "</style>\n",
       "<table border=\"1\" class=\"dataframe\">\n",
       "  <thead>\n",
       "    <tr style=\"text-align: right;\">\n",
       "      <th></th>\n",
       "      <th>ETA</th>\n",
       "      <th>PESO</th>\n",
       "      <th>ALTEZZA</th>\n",
       "      <th>SESSO</th>\n",
       "    </tr>\n",
       "    <tr>\n",
       "      <th>NOME</th>\n",
       "      <th></th>\n",
       "      <th></th>\n",
       "      <th></th>\n",
       "      <th></th>\n",
       "    </tr>\n",
       "  </thead>\n",
       "  <tbody>\n",
       "    <tr>\n",
       "      <th>Giocatore2</th>\n",
       "      <td>81</td>\n",
       "      <td>75</td>\n",
       "      <td>170</td>\n",
       "      <td>2</td>\n",
       "    </tr>\n",
       "    <tr>\n",
       "      <th>Giocatore3</th>\n",
       "      <td>75</td>\n",
       "      <td>70</td>\n",
       "      <td>168</td>\n",
       "      <td>1</td>\n",
       "    </tr>\n",
       "    <tr>\n",
       "      <th>Giocatore4</th>\n",
       "      <td>75</td>\n",
       "      <td>72</td>\n",
       "      <td>178</td>\n",
       "      <td>2</td>\n",
       "    </tr>\n",
       "    <tr>\n",
       "      <th>Giocatore5</th>\n",
       "      <td>49</td>\n",
       "      <td>130</td>\n",
       "      <td>182</td>\n",
       "      <td>2</td>\n",
       "    </tr>\n",
       "    <tr>\n",
       "      <th>Giocatore6</th>\n",
       "      <td>64</td>\n",
       "      <td>85</td>\n",
       "      <td>162</td>\n",
       "      <td>1</td>\n",
       "    </tr>\n",
       "    <tr>\n",
       "      <th>...</th>\n",
       "      <td>...</td>\n",
       "      <td>...</td>\n",
       "      <td>...</td>\n",
       "      <td>...</td>\n",
       "    </tr>\n",
       "    <tr>\n",
       "      <th>Giocatore427</th>\n",
       "      <td>71</td>\n",
       "      <td>60</td>\n",
       "      <td>160</td>\n",
       "      <td>1</td>\n",
       "    </tr>\n",
       "    <tr>\n",
       "      <th>Giocatore429</th>\n",
       "      <td>64</td>\n",
       "      <td>62</td>\n",
       "      <td>160</td>\n",
       "      <td>2</td>\n",
       "    </tr>\n",
       "    <tr>\n",
       "      <th>Giocatore430</th>\n",
       "      <td>48</td>\n",
       "      <td>95</td>\n",
       "      <td>180</td>\n",
       "      <td>2</td>\n",
       "    </tr>\n",
       "    <tr>\n",
       "      <th>Giocatore432</th>\n",
       "      <td>54</td>\n",
       "      <td>72</td>\n",
       "      <td>180</td>\n",
       "      <td>2</td>\n",
       "    </tr>\n",
       "    <tr>\n",
       "      <th>Giocatore433</th>\n",
       "      <td>64</td>\n",
       "      <td>85</td>\n",
       "      <td>170</td>\n",
       "      <td>2</td>\n",
       "    </tr>\n",
       "  </tbody>\n",
       "</table>\n",
       "<p>399 rows × 4 columns</p>\n",
       "</div>"
      ],
      "text/plain": [
       "              ETA  PESO  ALTEZZA  SESSO\n",
       "NOME                                   \n",
       "Giocatore2     81    75      170      2\n",
       "Giocatore3     75    70      168      1\n",
       "Giocatore4     75    72      178      2\n",
       "Giocatore5     49   130      182      2\n",
       "Giocatore6     64    85      162      1\n",
       "...           ...   ...      ...    ...\n",
       "Giocatore427   71    60      160      1\n",
       "Giocatore429   64    62      160      2\n",
       "Giocatore430   48    95      180      2\n",
       "Giocatore432   54    72      180      2\n",
       "Giocatore433   64    85      170      2\n",
       "\n",
       "[399 rows x 4 columns]"
      ]
     },
     "execution_count": 20,
     "metadata": {},
     "output_type": "execute_result"
    }
   ],
   "source": [
    "player[player['ETA' ] > 47]"
   ]
  },
  {
   "attachments": {},
   "cell_type": "markdown",
   "metadata": {},
   "source": [
    "<h3>Indici</h3>"
   ]
  },
  {
   "cell_type": "code",
   "execution_count": 21,
   "metadata": {},
   "outputs": [
    {
     "data": {
      "text/html": [
       "<div>\n",
       "<style scoped>\n",
       "    .dataframe tbody tr th:only-of-type {\n",
       "        vertical-align: middle;\n",
       "    }\n",
       "\n",
       "    .dataframe tbody tr th {\n",
       "        vertical-align: top;\n",
       "    }\n",
       "\n",
       "    .dataframe thead th {\n",
       "        text-align: right;\n",
       "    }\n",
       "</style>\n",
       "<table border=\"1\" class=\"dataframe\">\n",
       "  <thead>\n",
       "    <tr style=\"text-align: right;\">\n",
       "      <th></th>\n",
       "      <th>ETA</th>\n",
       "      <th>PESO</th>\n",
       "      <th>ALTEZZA</th>\n",
       "      <th>SESSO</th>\n",
       "    </tr>\n",
       "    <tr>\n",
       "      <th>NOME</th>\n",
       "      <th></th>\n",
       "      <th></th>\n",
       "      <th></th>\n",
       "      <th></th>\n",
       "    </tr>\n",
       "  </thead>\n",
       "  <tbody>\n",
       "    <tr>\n",
       "      <th>Giocatore1</th>\n",
       "      <td>47</td>\n",
       "      <td>76</td>\n",
       "      <td>170</td>\n",
       "      <td>2</td>\n",
       "    </tr>\n",
       "    <tr>\n",
       "      <th>Giocatore2</th>\n",
       "      <td>81</td>\n",
       "      <td>75</td>\n",
       "      <td>170</td>\n",
       "      <td>2</td>\n",
       "    </tr>\n",
       "    <tr>\n",
       "      <th>Giocatore3</th>\n",
       "      <td>75</td>\n",
       "      <td>70</td>\n",
       "      <td>168</td>\n",
       "      <td>1</td>\n",
       "    </tr>\n",
       "    <tr>\n",
       "      <th>Giocatore4</th>\n",
       "      <td>75</td>\n",
       "      <td>72</td>\n",
       "      <td>178</td>\n",
       "      <td>2</td>\n",
       "    </tr>\n",
       "    <tr>\n",
       "      <th>Giocatore5</th>\n",
       "      <td>49</td>\n",
       "      <td>130</td>\n",
       "      <td>182</td>\n",
       "      <td>2</td>\n",
       "    </tr>\n",
       "    <tr>\n",
       "      <th>...</th>\n",
       "      <td>...</td>\n",
       "      <td>...</td>\n",
       "      <td>...</td>\n",
       "      <td>...</td>\n",
       "    </tr>\n",
       "    <tr>\n",
       "      <th>Giocatore430</th>\n",
       "      <td>48</td>\n",
       "      <td>95</td>\n",
       "      <td>180</td>\n",
       "      <td>2</td>\n",
       "    </tr>\n",
       "    <tr>\n",
       "      <th>Giocatore431</th>\n",
       "      <td>39</td>\n",
       "      <td>101</td>\n",
       "      <td>186</td>\n",
       "      <td>2</td>\n",
       "    </tr>\n",
       "    <tr>\n",
       "      <th>Giocatore432</th>\n",
       "      <td>54</td>\n",
       "      <td>72</td>\n",
       "      <td>180</td>\n",
       "      <td>2</td>\n",
       "    </tr>\n",
       "    <tr>\n",
       "      <th>Giocatore433</th>\n",
       "      <td>64</td>\n",
       "      <td>85</td>\n",
       "      <td>170</td>\n",
       "      <td>2</td>\n",
       "    </tr>\n",
       "    <tr>\n",
       "      <th>Giocatore434</th>\n",
       "      <td>43</td>\n",
       "      <td>98</td>\n",
       "      <td>167</td>\n",
       "      <td>1</td>\n",
       "    </tr>\n",
       "  </tbody>\n",
       "</table>\n",
       "<p>434 rows × 4 columns</p>\n",
       "</div>"
      ],
      "text/plain": [
       "              ETA  PESO  ALTEZZA  SESSO\n",
       "NOME                                   \n",
       "Giocatore1     47    76      170      2\n",
       "Giocatore2     81    75      170      2\n",
       "Giocatore3     75    70      168      1\n",
       "Giocatore4     75    72      178      2\n",
       "Giocatore5     49   130      182      2\n",
       "...           ...   ...      ...    ...\n",
       "Giocatore430   48    95      180      2\n",
       "Giocatore431   39   101      186      2\n",
       "Giocatore432   54    72      180      2\n",
       "Giocatore433   64    85      170      2\n",
       "Giocatore434   43    98      167      1\n",
       "\n",
       "[434 rows x 4 columns]"
      ]
     },
     "execution_count": 21,
     "metadata": {},
     "output_type": "execute_result"
    }
   ],
   "source": [
    "player = pd.read_csv('/home/pippozord/Scrivania/Statistica/2023/superhero-datascience/content/data/Anagrafica.csv', sep=\" \", index_col=0);\n",
    "player\n"
   ]
  },
  {
   "attachments": {},
   "cell_type": "markdown",
   "metadata": {},
   "source": [
    "Di seguito si trovano l'utilizzo dei metodi per calcolare:<br>\n",
    "    - Frequenze Assolute e Relative<br>\n",
    "    - Media Campionaria<br>\n",
    "    - Deviazione Standard Campionaria<br>\n",
    "    - Varianza Campionaria<br>\n",
    "    - Mediana Campionaria<br>\n",
    "    - Moda Campionaria<br>\n",
    "    "
   ]
  },
  {
   "cell_type": "code",
   "execution_count": 22,
   "metadata": {},
   "outputs": [
    {
     "data": {
      "text/plain": [
       "70    16\n",
       "64    16\n",
       "71    15\n",
       "72    15\n",
       "60    14\n",
       "      ..\n",
       "92     1\n",
       "32     1\n",
       "94     1\n",
       "93     1\n",
       "35     1\n",
       "Name: ETA, Length: 62, dtype: int64"
      ]
     },
     "execution_count": 22,
     "metadata": {},
     "output_type": "execute_result"
    }
   ],
   "source": [
    "player[\"ETA\"].value_counts()"
   ]
  },
  {
   "cell_type": "code",
   "execution_count": 23,
   "metadata": {},
   "outputs": [
    {
     "data": {
      "text/plain": [
       "66.27188940092167"
      ]
     },
     "execution_count": 23,
     "metadata": {},
     "output_type": "execute_result"
    }
   ],
   "source": [
    "player[\"ETA\"].mean()"
   ]
  },
  {
   "cell_type": "code",
   "execution_count": 24,
   "metadata": {},
   "outputs": [
    {
     "data": {
      "text/plain": [
       "13.074834973562458"
      ]
     },
     "execution_count": 24,
     "metadata": {},
     "output_type": "execute_result"
    }
   ],
   "source": [
    "player[\"ETA\"].std()"
   ]
  },
  {
   "cell_type": "code",
   "execution_count": 25,
   "metadata": {},
   "outputs": [
    {
     "data": {
      "text/plain": [
       "170.951309585892"
      ]
     },
     "execution_count": 25,
     "metadata": {},
     "output_type": "execute_result"
    }
   ],
   "source": [
    "player[\"ETA\"].var()"
   ]
  },
  {
   "cell_type": "code",
   "execution_count": 26,
   "metadata": {},
   "outputs": [
    {
     "data": {
      "text/plain": [
       "67.0"
      ]
     },
     "execution_count": 26,
     "metadata": {},
     "output_type": "execute_result"
    }
   ],
   "source": [
    "player[\"ETA\"].median()"
   ]
  },
  {
   "cell_type": "code",
   "execution_count": 27,
   "metadata": {},
   "outputs": [
    {
     "data": {
      "text/html": [
       "<div>\n",
       "<style scoped>\n",
       "    .dataframe tbody tr th:only-of-type {\n",
       "        vertical-align: middle;\n",
       "    }\n",
       "\n",
       "    .dataframe tbody tr th {\n",
       "        vertical-align: top;\n",
       "    }\n",
       "\n",
       "    .dataframe thead th {\n",
       "        text-align: right;\n",
       "    }\n",
       "</style>\n",
       "<table border=\"1\" class=\"dataframe\">\n",
       "  <thead>\n",
       "    <tr style=\"text-align: right;\">\n",
       "      <th></th>\n",
       "      <th>ETA</th>\n",
       "      <th>PESO</th>\n",
       "      <th>ALTEZZA</th>\n",
       "      <th>SESSO</th>\n",
       "    </tr>\n",
       "  </thead>\n",
       "  <tbody>\n",
       "    <tr>\n",
       "      <th>0</th>\n",
       "      <td>64</td>\n",
       "      <td>70.0</td>\n",
       "      <td>170.0</td>\n",
       "      <td>2.0</td>\n",
       "    </tr>\n",
       "    <tr>\n",
       "      <th>1</th>\n",
       "      <td>70</td>\n",
       "      <td>NaN</td>\n",
       "      <td>NaN</td>\n",
       "      <td>NaN</td>\n",
       "    </tr>\n",
       "  </tbody>\n",
       "</table>\n",
       "</div>"
      ],
      "text/plain": [
       "   ETA  PESO  ALTEZZA  SESSO\n",
       "0   64  70.0    170.0    2.0\n",
       "1   70   NaN      NaN    NaN"
      ]
     },
     "execution_count": 27,
     "metadata": {},
     "output_type": "execute_result"
    }
   ],
   "source": [
    "player.mode()"
   ]
  },
  {
   "attachments": {},
   "cell_type": "markdown",
   "metadata": {},
   "source": [
    "Cerchiamo di calcolare l'indice di massa corporea"
   ]
  },
  {
   "cell_type": "code",
   "execution_count": 28,
   "metadata": {},
   "outputs": [
    {
     "data": {
      "text/plain": [
       "NOME\n",
       "Giocatore1      2.0\n",
       "Giocatore2      2.0\n",
       "Giocatore3      2.0\n",
       "Giocatore4      2.0\n",
       "Giocatore5      1.0\n",
       "               ... \n",
       "Giocatore430    2.0\n",
       "Giocatore431    2.0\n",
       "Giocatore432    2.0\n",
       "Giocatore433    2.0\n",
       "Giocatore434    2.0\n",
       "Length: 434, dtype: float64"
      ]
     },
     "execution_count": 28,
     "metadata": {},
     "output_type": "execute_result"
    }
   ],
   "source": [
    "weight = player[\"PESO\"]\n",
    "height = player[\"ALTEZZA\"]\n",
    "names  = player.index\n",
    "index_mass = pd.Series(round(height/weight), index=names)\n",
    "index_mass"
   ]
  },
  {
   "attachments": {},
   "cell_type": "markdown",
   "metadata": {},
   "source": [
    "Forma più concisa, Si tratta di una serie con indice l'indice della `Series` `player`"
   ]
  },
  {
   "cell_type": "code",
   "execution_count": 29,
   "metadata": {},
   "outputs": [
    {
     "data": {
      "text/plain": [
       "NOME\n",
       "Giocatore1      2.0\n",
       "Giocatore2      2.0\n",
       "Giocatore3      2.0\n",
       "Giocatore4      2.0\n",
       "Giocatore5      1.0\n",
       "               ... \n",
       "Giocatore430    2.0\n",
       "Giocatore431    2.0\n",
       "Giocatore432    2.0\n",
       "Giocatore433    2.0\n",
       "Giocatore434    2.0\n",
       "Length: 434, dtype: float64"
      ]
     },
     "execution_count": 29,
     "metadata": {},
     "output_type": "execute_result"
    }
   ],
   "source": [
    "index_mass = round(player[\"ALTEZZA\"]/player[\"PESO\"])\n",
    "index_mass"
   ]
  },
  {
   "attachments": {},
   "cell_type": "markdown",
   "metadata": {},
   "source": [
    "Adesso proviamo a graficare e a visualizzare valori interessanti."
   ]
  },
  {
   "cell_type": "code",
   "execution_count": 30,
   "metadata": {},
   "outputs": [
    {
     "data": {
      "text/plain": [
       "1.0      3\n",
       "2.0    324\n",
       "3.0    104\n",
       "4.0      1\n",
       "7.0      1\n",
       "8.0      1\n",
       "dtype: int64"
      ]
     },
     "execution_count": 30,
     "metadata": {},
     "output_type": "execute_result"
    }
   ],
   "source": [
    "index_mass_freq = index_mass.value_counts().sort_index()\n",
    "index_mass_freq"
   ]
  },
  {
   "cell_type": "code",
   "execution_count": 31,
   "metadata": {},
   "outputs": [
    {
     "data": {
      "image/png": "[encoded data removed]",
      "text/plain": [
       "<Figure size 500x200 with 1 Axes>"
      ]
     },
     "metadata": {},
     "output_type": "display_data"
    }
   ],
   "source": [
    "plt.bar(index_mass_freq.index, index_mass_freq.values)\n",
    "plt.xlim((0, 8))\n",
    "plt.ylim((0, 324))\n",
    "plt.show()"
   ]
  },
  {
   "attachments": {},
   "cell_type": "markdown",
   "metadata": {},
   "source": [
    "<h3>Superhero</h3><br>\n",
    "Calcolo dell'indice di massa corporea degli eroi del dataset"
   ]
  },
  {
   "cell_type": "code",
   "execution_count": 32,
   "metadata": {},
   "outputs": [
    {
     "data": {
      "text/html": [
       "<div>\n",
       "<style scoped>\n",
       "    .dataframe tbody tr th:only-of-type {\n",
       "        vertical-align: middle;\n",
       "    }\n",
       "\n",
       "    .dataframe tbody tr th {\n",
       "        vertical-align: top;\n",
       "    }\n",
       "\n",
       "    .dataframe thead th {\n",
       "        text-align: right;\n",
       "    }\n",
       "</style>\n",
       "<table border=\"1\" class=\"dataframe\">\n",
       "  <thead>\n",
       "    <tr style=\"text-align: right;\">\n",
       "      <th></th>\n",
       "      <th>Identity</th>\n",
       "      <th>Birth place</th>\n",
       "      <th>Publisher</th>\n",
       "      <th>Height</th>\n",
       "      <th>Weight</th>\n",
       "      <th>Gender</th>\n",
       "      <th>First appearance</th>\n",
       "      <th>Eye color</th>\n",
       "      <th>Hair color</th>\n",
       "      <th>Strength</th>\n",
       "      <th>Intelligence</th>\n",
       "    </tr>\n",
       "    <tr>\n",
       "      <th>Name</th>\n",
       "      <th></th>\n",
       "      <th></th>\n",
       "      <th></th>\n",
       "      <th></th>\n",
       "      <th></th>\n",
       "      <th></th>\n",
       "      <th></th>\n",
       "      <th></th>\n",
       "      <th></th>\n",
       "      <th></th>\n",
       "      <th></th>\n",
       "    </tr>\n",
       "  </thead>\n",
       "  <tbody>\n",
       "    <tr>\n",
       "      <th>A-Bomb</th>\n",
       "      <td>Richard Milhouse Jones</td>\n",
       "      <td>Scarsdale, Arizona</td>\n",
       "      <td>Marvel Comics</td>\n",
       "      <td>203.21</td>\n",
       "      <td>441.95</td>\n",
       "      <td>M</td>\n",
       "      <td>2008.0</td>\n",
       "      <td>Yellow</td>\n",
       "      <td>No Hair</td>\n",
       "      <td>100.0</td>\n",
       "      <td>moderate</td>\n",
       "    </tr>\n",
       "    <tr>\n",
       "      <th>Abraxas</th>\n",
       "      <td>Abraxas</td>\n",
       "      <td>Within Eternity</td>\n",
       "      <td>Marvel Comics</td>\n",
       "      <td>NaN</td>\n",
       "      <td>NaN</td>\n",
       "      <td>M</td>\n",
       "      <td>NaN</td>\n",
       "      <td>Blue</td>\n",
       "      <td>Black</td>\n",
       "      <td>100.0</td>\n",
       "      <td>high</td>\n",
       "    </tr>\n",
       "    <tr>\n",
       "      <th>Abomination</th>\n",
       "      <td>Emil Blonsky</td>\n",
       "      <td>Zagreb, Yugoslavia</td>\n",
       "      <td>Marvel Comics</td>\n",
       "      <td>203.04</td>\n",
       "      <td>441.98</td>\n",
       "      <td>M</td>\n",
       "      <td>NaN</td>\n",
       "      <td>Green</td>\n",
       "      <td>No Hair</td>\n",
       "      <td>80.0</td>\n",
       "      <td>good</td>\n",
       "    </tr>\n",
       "    <tr>\n",
       "      <th>Adam Monroe</th>\n",
       "      <td>NaN</td>\n",
       "      <td>NaN</td>\n",
       "      <td>NBC - Heroes</td>\n",
       "      <td>NaN</td>\n",
       "      <td>NaN</td>\n",
       "      <td>M</td>\n",
       "      <td>NaN</td>\n",
       "      <td>Blue</td>\n",
       "      <td>Blond</td>\n",
       "      <td>10.0</td>\n",
       "      <td>good</td>\n",
       "    </tr>\n",
       "    <tr>\n",
       "      <th>Agent 13</th>\n",
       "      <td>Sharon Carter</td>\n",
       "      <td>NaN</td>\n",
       "      <td>Marvel Comics</td>\n",
       "      <td>173.41</td>\n",
       "      <td>61.03</td>\n",
       "      <td>F</td>\n",
       "      <td>NaN</td>\n",
       "      <td>Blue</td>\n",
       "      <td>Blond</td>\n",
       "      <td>NaN</td>\n",
       "      <td>NaN</td>\n",
       "    </tr>\n",
       "    <tr>\n",
       "      <th>...</th>\n",
       "      <td>...</td>\n",
       "      <td>...</td>\n",
       "      <td>...</td>\n",
       "      <td>...</td>\n",
       "      <td>...</td>\n",
       "      <td>...</td>\n",
       "      <td>...</td>\n",
       "      <td>...</td>\n",
       "      <td>...</td>\n",
       "      <td>...</td>\n",
       "      <td>...</td>\n",
       "    </tr>\n",
       "    <tr>\n",
       "      <th>Alan Scott</th>\n",
       "      <td>Alan Ladd Wellington Scott</td>\n",
       "      <td>Gotham City</td>\n",
       "      <td>DC Comics</td>\n",
       "      <td>180.98</td>\n",
       "      <td>90.81</td>\n",
       "      <td>M</td>\n",
       "      <td>1940.0</td>\n",
       "      <td>Blue</td>\n",
       "      <td>Blond</td>\n",
       "      <td>80.0</td>\n",
       "      <td>good</td>\n",
       "    </tr>\n",
       "    <tr>\n",
       "      <th>Amazo</th>\n",
       "      <td>NaN</td>\n",
       "      <td>NaN</td>\n",
       "      <td>DC Comics</td>\n",
       "      <td>257.49</td>\n",
       "      <td>173.95</td>\n",
       "      <td>M</td>\n",
       "      <td>1960.0</td>\n",
       "      <td>Red</td>\n",
       "      <td>NaN</td>\n",
       "      <td>100.0</td>\n",
       "      <td>good</td>\n",
       "    </tr>\n",
       "    <tr>\n",
       "      <th>Ant-Man</th>\n",
       "      <td>Hank Pym</td>\n",
       "      <td>Elmsford, New York</td>\n",
       "      <td>Marvel Comics</td>\n",
       "      <td>211.74</td>\n",
       "      <td>122.44</td>\n",
       "      <td>M</td>\n",
       "      <td>1962.0</td>\n",
       "      <td>Blue</td>\n",
       "      <td>Blond</td>\n",
       "      <td>20.0</td>\n",
       "      <td>high</td>\n",
       "    </tr>\n",
       "    <tr>\n",
       "      <th>Ajax</th>\n",
       "      <td>Francis</td>\n",
       "      <td>NaN</td>\n",
       "      <td>Marvel Comics</td>\n",
       "      <td>193.34</td>\n",
       "      <td>90.63</td>\n",
       "      <td>M</td>\n",
       "      <td>1998.0</td>\n",
       "      <td>Brown</td>\n",
       "      <td>Black</td>\n",
       "      <td>50.0</td>\n",
       "      <td>average</td>\n",
       "    </tr>\n",
       "    <tr>\n",
       "      <th>Alex Mercer</th>\n",
       "      <td>Alexander J. Mercer</td>\n",
       "      <td>NaN</td>\n",
       "      <td>Wildstorm</td>\n",
       "      <td>NaN</td>\n",
       "      <td>NaN</td>\n",
       "      <td>M</td>\n",
       "      <td>NaN</td>\n",
       "      <td>NaN</td>\n",
       "      <td>NaN</td>\n",
       "      <td>80.0</td>\n",
       "      <td>average</td>\n",
       "    </tr>\n",
       "  </tbody>\n",
       "</table>\n",
       "<p>735 rows × 11 columns</p>\n",
       "</div>"
      ],
      "text/plain": [
       "                               Identity         Birth place      Publisher  \\\n",
       "Name                                                                         \n",
       "A-Bomb           Richard Milhouse Jones  Scarsdale, Arizona  Marvel Comics   \n",
       "Abraxas                         Abraxas    Within Eternity   Marvel Comics   \n",
       "Abomination                Emil Blonsky  Zagreb, Yugoslavia  Marvel Comics   \n",
       "Adam Monroe                         NaN                 NaN   NBC - Heroes   \n",
       "Agent 13                  Sharon Carter                 NaN  Marvel Comics   \n",
       "...                                 ...                 ...            ...   \n",
       "Alan Scott   Alan Ladd Wellington Scott         Gotham City      DC Comics   \n",
       "Amazo                               NaN                 NaN      DC Comics   \n",
       "Ant-Man                        Hank Pym  Elmsford, New York  Marvel Comics   \n",
       "Ajax                            Francis                 NaN  Marvel Comics   \n",
       "Alex Mercer         Alexander J. Mercer                 NaN      Wildstorm   \n",
       "\n",
       "             Height  Weight Gender  First appearance Eye color Hair color  \\\n",
       "Name                                                                        \n",
       "A-Bomb       203.21  441.95      M            2008.0    Yellow    No Hair   \n",
       "Abraxas         NaN     NaN      M               NaN      Blue      Black   \n",
       "Abomination  203.04  441.98      M               NaN     Green    No Hair   \n",
       "Adam Monroe     NaN     NaN      M               NaN      Blue      Blond   \n",
       "Agent 13     173.41   61.03      F               NaN      Blue      Blond   \n",
       "...             ...     ...    ...               ...       ...        ...   \n",
       "Alan Scott   180.98   90.81      M            1940.0      Blue      Blond   \n",
       "Amazo        257.49  173.95      M            1960.0       Red        NaN   \n",
       "Ant-Man      211.74  122.44      M            1962.0      Blue      Blond   \n",
       "Ajax         193.34   90.63      M            1998.0     Brown      Black   \n",
       "Alex Mercer     NaN     NaN      M               NaN       NaN        NaN   \n",
       "\n",
       "             Strength Intelligence  \n",
       "Name                                \n",
       "A-Bomb          100.0     moderate  \n",
       "Abraxas         100.0         high  \n",
       "Abomination      80.0         good  \n",
       "Adam Monroe      10.0         good  \n",
       "Agent 13          NaN          NaN  \n",
       "...               ...          ...  \n",
       "Alan Scott       80.0         good  \n",
       "Amazo           100.0         good  \n",
       "Ant-Man          20.0         high  \n",
       "Ajax             50.0      average  \n",
       "Alex Mercer      80.0      average  \n",
       "\n",
       "[735 rows x 11 columns]"
      ]
     },
     "execution_count": 32,
     "metadata": {},
     "output_type": "execute_result"
    }
   ],
   "source": [
    "heroes = pd.read_csv('/home/pippozord/Scrivania/Statistica/2023/superhero-datascience/content/data/heroes.csv', sep=\";\", index_col = 0);\n",
    "heroes"
   ]
  },
  {
   "cell_type": "code",
   "execution_count": 33,
   "metadata": {},
   "outputs": [
    {
     "data": {
      "text/plain": [
       "24.0    47\n",
       "25.0    41\n",
       "20.0    41\n",
       "26.0    37\n",
       "19.0    29\n",
       "        ..\n",
       "97.0     1\n",
       "70.0     1\n",
       "67.0     1\n",
       "45.0     1\n",
       "79.0     1\n",
       "Length: 71, dtype: int64"
      ]
     },
     "execution_count": 33,
     "metadata": {},
     "output_type": "execute_result"
    }
   ],
   "source": [
    "height = heroes[\"Height\"]\n",
    "Weight = heroes[\"Weight\"]\n",
    "index_mass_value = round(heroes[\"Weight\"]/pow(heroes[\"Height\"]/100, 2))\n",
    "index_mass_value = index_mass_value[[y > 0 for y in index_mass_value]]\n",
    "index_mass_value.value_counts()\n",
    "\n",
    "#index_mass.values"
   ]
  },
  {
   "cell_type": "code",
   "execution_count": 34,
   "metadata": {},
   "outputs": [
    {
     "data": {
      "text/plain": [
       "2.0    324\n",
       "3.0    104\n",
       "1.0      3\n",
       "4.0      1\n",
       "7.0      1\n",
       "8.0      1\n",
       "dtype: int64"
      ]
     },
     "execution_count": 34,
     "metadata": {},
     "output_type": "execute_result"
    }
   ],
   "source": [
    "index_mass = round(heroes[\"Weight\"]/pow(heroes[\"Height\"]/100, 2))\n",
    "index_mass_freq = index_mass_freq.sort_values(ascending=False)[2:]\n",
    "index_mass_freq"
   ]
  },
  {
   "cell_type": "code",
   "execution_count": 35,
   "metadata": {},
   "outputs": [
    {
     "data": {
      "text/plain": [
       "<bound method Series.sort_index of 24.0    47\n",
       "25.0    41\n",
       "20.0    41\n",
       "26.0    37\n",
       "19.0    29\n",
       "        ..\n",
       "97.0     1\n",
       "70.0     1\n",
       "67.0     1\n",
       "45.0     1\n",
       "79.0     1\n",
       "Length: 71, dtype: int64>"
      ]
     },
     "execution_count": 35,
     "metadata": {},
     "output_type": "execute_result"
    }
   ],
   "source": [
    "index_mass_freq = index_mass_value.value_counts().sort_index\n",
    "index_mass_freq"
   ]
  },
  {
   "cell_type": "code",
   "execution_count": 36,
   "metadata": {},
   "outputs": [
    {
     "ename": "AttributeError",
     "evalue": "'function' object has no attribute 'index'",
     "output_type": "error",
     "traceback": [
      "\u001b[0;31m---------------------------------------------------------------------------\u001b[0m",
      "\u001b[0;31mAttributeError\u001b[0m                            Traceback (most recent call last)",
      "\u001b[1;32m/home/pippozord/Scrivania/Statistica/2023/superhero-datascience/content/Esercitazioni/Anagrafica.ipynb Cell 65\u001b[0m in \u001b[0;36m1\n\u001b[0;32m----> <a href='vscode-notebook-cell:/home/pippozord/Scrivania/Statistica/2023/superhero-datascience/content/Esercitazioni/Anagrafica.ipynb#Y121sZmlsZQ%3D%3D?line=0'>1</a>\u001b[0m plt\u001b[39m.\u001b[39mbar(index_mass_freq\u001b[39m.\u001b[39;49mindex\u001b[39m.\u001b[39msort_values(ascending\u001b[39m=\u001b[39m\u001b[39mFalse\u001b[39;00m)[\u001b[39m2\u001b[39m:], index_mass_freq\u001b[39m.\u001b[39mvalues)\n\u001b[1;32m      <a href='vscode-notebook-cell:/home/pippozord/Scrivania/Statistica/2023/superhero-datascience/content/Esercitazioni/Anagrafica.ipynb#Y121sZmlsZQ%3D%3D?line=1'>2</a>\u001b[0m plt\u001b[39m.\u001b[39mshow()\n",
      "\u001b[0;31mAttributeError\u001b[0m: 'function' object has no attribute 'index'"
     ]
    }
   ],
   "source": [
    "plt.bar(index_mass_freq.index.sort_values(ascending=False)[2:], index_mass_freq.values)\n",
    "plt.show()"
   ]
  },
  {
   "cell_type": "code",
   "execution_count": null,
   "metadata": {},
   "outputs": [
    {
     "data": {
      "text/plain": [
       "<AxesSubplot: >"
      ]
     },
     "execution_count": 50,
     "metadata": {},
     "output_type": "execute_result"
    },
    {
     "data": {
      "image/png": "[encoded data removed]",
      "text/plain": [
       "<Figure size 1500x1500 with 1 Axes>"
      ]
     },
     "metadata": {},
     "output_type": "display_data"
    }
   ],
   "source": [
    "index_mass_freq.plot(kind='bar', figsize=(15, 15))"
   ]
  }
 ],
 "metadata": {
  "kernelspec": {
   "display_name": "Python 3",
   "language": "python",
   "name": "python3"
  },
  "language_info": {
   "codemirror_mode": {
    "name": "ipython",
    "version": 3
   },
   "file_extension": ".py",
   "mimetype": "text/x-python",
   "name": "python",
   "nbconvert_exporter": "python",
   "pygments_lexer": "ipython3",
   "version": "3.10.6"
  },
  "orig_nbformat": 4
 },
 "nbformat": 4,
 "nbformat_minor": 2
}
